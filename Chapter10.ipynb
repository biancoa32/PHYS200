{
 "metadata": {
  "name": "Chapter10"
 },
 "nbformat": 3,
 "worksheets": [
  {
   "cells": [
    {
     "cell_type": "code",
     "collapsed": false,
     "input": [
      "def sumList(a):",
      "    s = []",
      "    for i in range(len(a)):",
      "        s.append(sum(a[:i+1]))",
      "    return s",
      "x = [1,2,3,4,5]",
      "y = [3, 5, 6, 12, 95, -3, -73]",
      "print sumList(x)",
      "print sumList(y)"
     ],
     "language": "python",
     "outputs": [
      {
       "output_type": "stream",
       "stream": "stdout",
       "text": [
        "[1, 3, 6, 10, 15]",
        "[3, 8, 14, 26, 121, 118, 45]"
       ]
      }
     ],
     "prompt_number": 2
    },
    {
     "cell_type": "code",
     "collapsed": false,
     "input": [
      "def chop(x):",
      "    del x[0]",
      "    del x[-1]",
      "    return",
      "a = [2,3,5,6,2]",
      "z = chop(a)",
      "print a",
      "print z"
     ],
     "language": "python",
     "outputs": [
      {
       "output_type": "stream",
       "stream": "stdout",
       "text": [
        "[3, 5, 6]",
        "None"
       ]
      }
     ],
     "prompt_number": 1
    },
    {
     "cell_type": "code",
     "collapsed": false,
     "input": [
      "def is_sorted(l):",
      "    i = 0",
      "    while i < len(l)-1:",
      "        if l[i] > l[i+1]:",
      "            return False",
      "        i += 1",
      "    return True",
      "print is_sorted([5,6,7,8])",
      "print is_sorted([5,6,8,7])"
     ],
     "language": "python",
     "outputs": [
      {
       "output_type": "stream",
       "stream": "stdout",
       "text": [
        "True",
        "False"
       ]
      }
     ],
     "prompt_number": 4
    },
    {
     "cell_type": "code",
     "collapsed": false,
     "input": [
      "def is_anagram(a, b):",
      "    x = list(a)",
      "    y = list(b)",
      "    if len(x) != len(y):",
      "        return False",
      "    while len(x) > 0:",
      "        if x[0] not in y:",
      "           return False",
      "        y.remove(x[0])",
      "        del x[0]",
      "    return True",
      "print is_anagram('mega','agem')",
      "print is_anagram('mega', 'super')",
      "print is_anagram('toaster', 'taorest')"
     ],
     "language": "python",
     "outputs": [
      {
       "output_type": "stream",
       "stream": "stdout",
       "text": [
        "True",
        "False",
        "True"
       ]
      }
     ],
     "prompt_number": 6
    },
    {
     "cell_type": "code",
     "collapsed": true,
     "input": [],
     "language": "python",
     "outputs": [],
     "prompt_number": "&nbsp;"
    }
   ]
  }
 ]
}