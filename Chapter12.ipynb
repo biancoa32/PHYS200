{
 "metadata": {
  "name": "Chapter12"
 },
 "nbformat": 3,
 "worksheets": [
  {
   "cells": [
    {
     "cell_type": "code",
     "collapsed": false,
     "input": [
      "def sumall(*tl):",
      "    t = list(tl)",
      "    return sum(t)",
      "",
      "sumall(2,4,5)"
     ],
     "language": "python",
     "outputs": [
      {
       "output_type": "pyout",
       "prompt_number": 1,
       "text": [
        "11"
       ]
      }
     ],
     "prompt_number": 1
    },
    {
     "cell_type": "code",
     "collapsed": false,
     "input": [
      "from random import shuffle",
      "",
      "def sort_by_length(words):",
      "    li = []",
      "    t = dict()",
      "    for word in words:",
      "        t.setdefault(len(word), []).append(word)",
      "    for key in sorted(li, reverse=True):",
      "        if len(t[key]) > 1:",
      "            shuffle(t[key])",
      "        li.extend(t[key])",
      "    return li",
      "",
      "word = 'turtle','basic','toast','bacon','toaster'",
      "sort_by_length(word)"
     ],
     "language": "python",
     "outputs": [
      {
       "output_type": "pyout",
       "prompt_number": 4,
       "text": [
        "[]"
       ]
      }
     ],
     "prompt_number": 4
    },
    {
     "cell_type": "code",
     "collapsed": true,
     "input": [
      ""
     ],
     "language": "python",
     "outputs": []
    }
   ]
  }
 ]
}